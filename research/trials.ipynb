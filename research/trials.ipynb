{
 "cells": [
  {
   "cell_type": "markdown",
   "metadata": {},
   "source": [
    "1. Import Dependencies"
   ]
  },
  {
   "cell_type": "code",
   "execution_count": 62,
   "metadata": {},
   "outputs": [],
   "source": [
    "import os\n",
    "from google.auth.transport.requests import Request\n",
    "from google.oauth2.service_account import Credentials\n",
    "import vertexai\n",
    "from vertexai.generative_models import GenerativeModel, Part\n",
    "from dotenv import load_dotenv\n",
    "\n",
    "from IPython.display import display, Markdown\n",
    "import pathlib\n",
    "import textwrap\n"
   ]
  },
  {
   "cell_type": "markdown",
   "metadata": {},
   "source": [
    "2. Convert Text to MD"
   ]
  },
  {
   "cell_type": "code",
   "execution_count": 49,
   "metadata": {},
   "outputs": [],
   "source": [
    "def to_markdown(text):\n",
    "  \"\"\"\n",
    "  Convert text to markdown.\n",
    "  \"\"\"\n",
    "  text = text.replace('•', '  *')\n",
    "  return Markdown(textwrap.indent(text, '> ', predicate=lambda _: True))"
   ]
  },
  {
   "cell_type": "markdown",
   "metadata": {},
   "source": [
    "3. Load env"
   ]
  },
  {
   "cell_type": "code",
   "execution_count": 56,
   "metadata": {},
   "outputs": [
    {
     "name": "stderr",
     "output_type": "stream",
     "text": [
      "Python-dotenv could not parse statement starting at line 1\n"
     ]
    }
   ],
   "source": [
    "# Load the environment variables\n",
    "load_dotenv()\n",
    "KEY_PATH = os.getenv('GOOGLE_APPLICATION_CREDENTIALS')\n",
    "API_KEY=os.getenv('API_KEY')\n",
    "PROJECT_ID = os.getenv('PROJECT_ID')    \n",
    "REGION = os.getenv('REGION')\n",
    "MODEL = os.getenv('MODEL')"
   ]
  },
  {
   "cell_type": "markdown",
   "metadata": {},
   "source": [
    "4. Define file path"
   ]
  },
  {
   "cell_type": "code",
   "execution_count": 58,
   "metadata": {},
   "outputs": [],
   "source": [
    "keypath=KEY_PATH"
   ]
  },
  {
   "cell_type": "markdown",
   "metadata": {},
   "source": [
    "5. Load Credentials"
   ]
  },
  {
   "cell_type": "code",
   "execution_count": 59,
   "metadata": {},
   "outputs": [],
   "source": [
    "credentials = Credentials.from_service_account_file(\n",
    "    keypath,\n",
    "    scopes=['https://www.googleapis.com/auth/cloud-platform'],\n",
    ")\n",
    "\n",
    "if Credentials.expired:\n",
    "    credentials.refresh(Request())"
   ]
  },
  {
   "cell_type": "markdown",
   "metadata": {},
   "source": [
    "6. Initialize vertext AI client"
   ]
  },
  {
   "cell_type": "code",
   "execution_count": 61,
   "metadata": {},
   "outputs": [],
   "source": [
    "# Initials the Vertex AI client\n",
    "vertexai.init(project=PROJECT_ID, location=REGION, credentials=credentials)"
   ]
  },
  {
   "cell_type": "markdown",
   "metadata": {},
   "source": [
    "7. Define the Model"
   ]
  },
  {
   "cell_type": "code",
   "execution_count": 53,
   "metadata": {},
   "outputs": [],
   "source": [
    "model = GenerativeModel(MODEL)"
   ]
  },
  {
   "cell_type": "markdown",
   "metadata": {},
   "source": [
    "8. Generate a response "
   ]
  },
  {
   "cell_type": "code",
   "execution_count": 54,
   "metadata": {},
   "outputs": [
    {
     "name": "stdout",
     "output_type": "stream",
     "text": [
      "Anya never paid much attention to the dusty old backpack tucked away in the corner of her attic. Cobwebs adorned its faded fabric, and the leather straps lay limp, forgotten. That is, until the day a stray lightning bolt, attracted by a sudden downpour, struck the attic window, illuminating the backpack in an ethereal glow.\n",
      "\n",
      "Intrigued, Anya lifted the bag. It was surprisingly light, almost weightless. As she unzipped it, a soft, warm light emanated from within, revealing a swirling vortex of colors. Anya gasped, captivated by its mesmerizing dance. Curiosity overriding caution, she reached out and touched the vortex. The world dissolved into a kaleidoscope of light and sound, pulling her through the swirling colors.\n",
      "\n",
      "When Anya opened her eyes, she found herself in a whimsical realm unlike anything she had ever seen. Lush meadows stretched into the distance, where vibrant flowers bloomed in impossible colors. Crystalline rivers flowed with liquid gold, and majestic trees whispered secrets to the wind. The air crackled with magic, a tangible energy that pulsed through Anya's veins.\n",
      "\n",
      "She soon discovered the source of the magic – her backpack. It seemed to possess a consciousness of its own, responding to her thoughts and desires. Wishing for a warm meal, Anya opened the backpack to find a steaming bowl of savory stew and a crusty bread roll. When she needed shelter from the sudden rain, the backpack transformed into a cozy cabin, complete with a crackling fireplace and a welcoming bed.\n",
      "\n",
      "Days turned into weeks as Anya explored this fantastical land, the backpack her ever-faithful companion. She befriended talking animals, learned to speak the language of the wind, and even discovered hidden talents she never knew she possessed. The backpack amplified her strengths, allowing her to heal the sick, control the elements, and even fly.\n",
      "\n",
      "But as time passed, a yearning for her old life began to gnaw at Anya. She missed her family, her friends, the familiar comforts of home. With a heavy heart, she knew it was time to return. With a tearful goodbye to her newfound friends, she stepped back into the swirling vortex within the backpack.\n",
      "\n",
      "Anya re-emerged in her attic, the dusty backpack lying open on the floor. The magical land seemed like a distant dream, but the lessons she learned and the friends she made stayed with her forever. Anya never looked at the backpack the same way again. It wasn't just a dusty old bag; it was a portal to a world of wonder, a reminder that magic exists not just in faraway lands, but within each of us.\n"
     ]
    }
   ],
   "source": [
    "response = model.generate_content(\"Write a story about a magic backpack.\")\n",
    "print(response.text)"
   ]
  },
  {
   "cell_type": "code",
   "execution_count": null,
   "metadata": {},
   "outputs": [],
   "source": []
  }
 ],
 "metadata": {
  "kernelspec": {
   "display_name": "Python 3",
   "language": "python",
   "name": "python3"
  },
  "language_info": {
   "codemirror_mode": {
    "name": "ipython",
    "version": 3
   },
   "file_extension": ".py",
   "mimetype": "text/x-python",
   "name": "python",
   "nbconvert_exporter": "python",
   "pygments_lexer": "ipython3",
   "version": "3.10.12"
  }
 },
 "nbformat": 4,
 "nbformat_minor": 2
}
